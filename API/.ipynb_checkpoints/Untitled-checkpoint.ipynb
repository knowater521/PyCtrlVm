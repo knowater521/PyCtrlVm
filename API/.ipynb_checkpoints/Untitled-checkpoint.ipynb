{
 "cells": [
  {
   "cell_type": "code",
   "execution_count": 46,
   "metadata": {},
   "outputs": [],
   "source": [
    "# -*- coding: UTF-8 -*-\n",
    "from pyVmomi import vim\n",
    "from pyVmomi import vmodl\n",
    "#from tools import tasks\n",
    "from pyVim.connect import SmartConnect, SmartConnectNoSSL, Disconnect\n",
    "import atexit\n",
    "import argparse\n",
    "import getpass\n",
    "\n",
    "class Vcenter():\n",
    "    si = \"\" #vcenter连接\n",
    "    template = \"\"\n",
    "    host = \"\"\n",
    "    user = \"\"\n",
    "    pwd = \"\"\n",
    "    port = \"\"\n",
    "    \n",
    "    def connect_vcenter(self,host,user,password,port):\n",
    "\n",
    "        self.si = SmartConnectNoSSL(\n",
    "            host=host,\n",
    "            user=user,\n",
    "            pwd=password,\n",
    "            port=port)\n",
    "        # disconnect this thing\n",
    "        atexit.register(Disconnect, self.si)\n",
    "        self.content = self.si.RetrieveContent()\n",
    "    '''\n",
    "    def wait_for_task(task):\n",
    "        \"\"\" wait for a vCenter task to finish \"\"\"\n",
    "        task_done = False\n",
    "        while not task_done:\n",
    "            if task.info.state == 'success':\n",
    "                return task.info.result\n",
    "\n",
    "            if task.info.state == 'error':\n",
    "                print(\"there was an error\")\n",
    "                task_done = True\n",
    "    '''\n",
    "    def get_obj(self, vimtype, name):\n",
    "        \"\"\"\n",
    "        Return an object by name, if name is None the\n",
    "        first found object is returned\n",
    "        \"\"\"\n",
    "        obj = None\n",
    "        container = self.content.viewManager.CreateContainerView(\n",
    "            self.content.rootFolder, vimtype, True)\n",
    "        print container\n",
    "        for c in container.view:\n",
    "            if name:\n",
    "                if c.name == name:\n",
    "                    obj = c\n",
    "                    break\n",
    "            else:\n",
    "                obj = c\n",
    "                break\n",
    "\n",
    "        return obj\n",
    "\n",
    "    def clone_vm(self,name):\n",
    "        self.template = self.get_obj([vim.VirtualMachine], name)\n",
    "        self.datacenter = self.get_obj([vim.Datacenter], 'datacenter1')\n",
    "        self.destfolder = self.datacenter.vmFolder\n",
    "        task = self.template.Clone(name = name,folder = destfolder)\n",
    "        \n",
    "\n",
    "\n",
    "\n",
    "\n",
    "\n"
   ]
  },
  {
   "cell_type": "code",
   "execution_count": 47,
   "metadata": {},
   "outputs": [],
   "source": [
    "P1=Vcenter()\n",
    "P1.connect_vcenter(\"192.168.1.233\",\"administrator@vsphere.local\",\"Cloud$2020\",443)\n",
    "#SmartConnectNoSSL('192.168.1.233','root','Cloud$2020',443)"
   ]
  },
  {
   "cell_type": "code",
   "execution_count": 50,
   "metadata": {},
   "outputs": [
    {
     "name": "stdout",
     "output_type": "stream",
     "text": [
      "None\n"
     ]
    }
   ],
   "source": [
    "print P1.get_obj([vim.Folder],'ubuntu 16')"
   ]
  },
  {
   "cell_type": "code",
   "execution_count": null,
   "metadata": {},
   "outputs": [],
   "source": [
    "P1.server.get_vm_by_path('[datastore1] win7/win7.vmx')"
   ]
  },
  {
   "cell_type": "code",
   "execution_count": null,
   "metadata": {},
   "outputs": [],
   "source": [
    "P1.get_vm_list()"
   ]
  },
  {
   "cell_type": "code",
   "execution_count": null,
   "metadata": {},
   "outputs": [],
   "source": [
    "P1.get_vm_by_name(\"ubuntu 16\")"
   ]
  },
  {
   "cell_type": "code",
   "execution_count": null,
   "metadata": {},
   "outputs": [],
   "source": [
    "P1.vm.clone(\"new\")"
   ]
  },
  {
   "cell_type": "code",
   "execution_count": null,
   "metadata": {},
   "outputs": [],
   "source": [
    "P1.SSH_connect()"
   ]
  },
  {
   "cell_type": "code",
   "execution_count": null,
   "metadata": {},
   "outputs": [],
   "source": [
    "P1.SSH_disconnect()"
   ]
  },
  {
   "cell_type": "code",
   "execution_count": null,
   "metadata": {},
   "outputs": [],
   "source": [
    "P1.command_server(\"ls\")"
   ]
  },
  {
   "cell_type": "code",
   "execution_count": null,
   "metadata": {},
   "outputs": [],
   "source": [
    "P1.vm_clone(template=\"demo0\",vm_name=\"demo1\")"
   ]
  },
  {
   "cell_type": "code",
   "execution_count": null,
   "metadata": {},
   "outputs": [],
   "source": [
    "P1.vm.create_snapshot(\"mysnapshot\")"
   ]
  },
  {
   "cell_type": "code",
   "execution_count": null,
   "metadata": {},
   "outputs": [],
   "source": [
    "P1.vm.revert_to_named_snapshot(\"mysnapshot\")"
   ]
  },
  {
   "cell_type": "code",
   "execution_count": null,
   "metadata": {},
   "outputs": [],
   "source": [
    "vm1=P1.vm.clone(name=\"new\")"
   ]
  },
  {
   "cell_type": "code",
   "execution_count": null,
   "metadata": {},
   "outputs": [],
   "source": []
  },
  {
   "cell_type": "code",
   "execution_count": null,
   "metadata": {},
   "outputs": [],
   "source": [
    "vm = s.get_vm_by_name(\"retail-app-server-C11\")\n",
    "vm.revert_to_named_snapshot(\"harish snapshot\") # 恢复到对应快照\n",
    "vm1 = vm.clone(\"harish-retail-app\")"
   ]
  },
  {
   "cell_type": "code",
   "execution_count": null,
   "metadata": {},
   "outputs": [],
   "source": []
  }
 ],
 "metadata": {
  "kernelspec": {
   "display_name": "Python 2",
   "language": "python",
   "name": "python2"
  },
  "language_info": {
   "codemirror_mode": {
    "name": "ipython",
    "version": 2
   },
   "file_extension": ".py",
   "mimetype": "text/x-python",
   "name": "python",
   "nbconvert_exporter": "python",
   "pygments_lexer": "ipython2",
   "version": "2.7.18"
  }
 },
 "nbformat": 4,
 "nbformat_minor": 2
}
