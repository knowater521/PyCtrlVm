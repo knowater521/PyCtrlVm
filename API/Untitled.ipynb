{
 "cells": [
  {
   "cell_type": "code",
   "execution_count": 3,
   "metadata": {},
   "outputs": [],
   "source": [
    "# -*- coding: UTF-8 -*-\n",
    "from pyVmomi import vim\n",
    "from pyVmomi import vmodl\n",
    "#from tools import tasks\n",
    "from pyVim.connect import SmartConnect, SmartConnectNoSSL, Disconnect\n",
    "import atexit\n",
    "import argparse\n",
    "import getpass\n",
    "\n",
    "class Vcenter():\n",
    "    si = \"\" #vcenter连接\n",
    "    template = \"\"\n",
    "    host = \"\"\n",
    "    user = \"\"\n",
    "    pwd = \"\"\n",
    "    port = \"\"\n",
    "    \n",
    "    def connect_vcenter(self,host,user,password,port):\n",
    "\n",
    "        self.si = SmartConnectNoSSL(\n",
    "            host=host,\n",
    "            user=user,\n",
    "            pwd=password,\n",
    "            port=port)\n",
    "        # disconnect this thing\n",
    "        atexit.register(Disconnect, self.si)\n",
    "        self.content = self.si.RetrieveContent()\n",
    "    '''\n",
    "    def wait_for_task(task):\n",
    "        \"\"\" wait for a vCenter task to finish \"\"\"\n",
    "        task_done = False\n",
    "        while not task_done:\n",
    "            if task.info.state == 'success':\n",
    "                return task.info.result\n",
    "\n",
    "            if task.info.state == 'error':\n",
    "                print(\"there was an error\")\n",
    "                task_done = True\n",
    "    '''\n",
    "    def get_obj(self, vimtype, name):\n",
    "        \"\"\"\n",
    "        Return an object by name, if name is None the\n",
    "        first found object is returned\n",
    "        \"\"\"\n",
    "        obj = None\n",
    "        container = self.content.viewManager.CreateContainerView(\n",
    "            self.content.rootFolder, vimtype, True)\n",
    "        for c in container.view:\n",
    "            if name:\n",
    "                if c.name == name:\n",
    "                    obj = c\n",
    "                    break\n",
    "            else:\n",
    "                obj = c\n",
    "                break\n",
    "\n",
    "        return obj\n",
    "\n",
    "    def clone_vm(self,name):\n",
    "        self.template = self.get_obj([vim.VirtualMachine], name)\n",
    "        self.datacenter = self.get_obj([vim.Datacenter], 'datacenter1')\n",
    "        self.destfolder = self.datacenter.vmFolder\n",
    "        task = self.template.Clone(name = name,folder = 'group-v3')\n",
    "        \n",
    "\n",
    "\n",
    "\n",
    "\n",
    "\n"
   ]
  },
  {
   "cell_type": "code",
   "execution_count": 4,
   "metadata": {},
   "outputs": [],
   "source": [
    "P1=Vcenter()\n",
    "P1.connect_vcenter(\"192.168.1.233\",\"administrator@vsphere.local\",\"Cloud$2020\",443)\n",
    "#SmartConnectNoSSL('192.168.1.233','root','Cloud$2020',443)"
   ]
  },
  {
   "cell_type": "code",
   "execution_count": 54,
   "metadata": {},
   "outputs": [
    {
     "name": "stdout",
     "output_type": "stream",
     "text": [
      "'vim.view.ContainerView:session[525afa86-2fc4-84f4-8862-e159c6627b35]523d3096-d80f-cb94-074a-f4e582442999'\n",
      "'vim.Folder:group-v3'\n"
     ]
    }
   ],
   "source": [
    "print P1.get_obj([vim.Folder],None)"
   ]
  },
  {
   "cell_type": "code",
   "execution_count": 56,
   "metadata": {},
   "outputs": [
    {
     "name": "stdout",
     "output_type": "stream",
     "text": [
      "'vim.view.ContainerView:session[525afa86-2fc4-84f4-8862-e159c6627b35]520a5269-f9d9-69f3-1ece-5ddba0288a32'\n",
      "'vim.view.ContainerView:session[525afa86-2fc4-84f4-8862-e159c6627b35]528b2a25-f2fd-224a-0cfb-3aa0d16d3b4a'\n"
     ]
    },
    {
     "ename": "AttributeError",
     "evalue": "'NoneType' object has no attribute 'vmFolder'",
     "output_type": "error",
     "traceback": [
      "\u001b[1;31m---------------------------------------------------------------------------\u001b[0m",
      "\u001b[1;31mAttributeError\u001b[0m                            Traceback (most recent call last)",
      "\u001b[1;32m<ipython-input-56-2d9c4cf1dbf8>\u001b[0m in \u001b[0;36m<module>\u001b[1;34m()\u001b[0m\n\u001b[1;32m----> 1\u001b[1;33m \u001b[0mP1\u001b[0m\u001b[1;33m.\u001b[0m\u001b[0mclone_vm\u001b[0m\u001b[1;33m(\u001b[0m\u001b[1;34m'ubuntu 16'\u001b[0m\u001b[1;33m)\u001b[0m\u001b[1;33m\u001b[0m\u001b[0m\n\u001b[0m",
      "\u001b[1;32m<ipython-input-51-5c34b33e890b>\u001b[0m in \u001b[0;36mclone_vm\u001b[1;34m(self, name)\u001b[0m\n\u001b[0;32m     61\u001b[0m         \u001b[0mself\u001b[0m\u001b[1;33m.\u001b[0m\u001b[0mtemplate\u001b[0m \u001b[1;33m=\u001b[0m \u001b[0mself\u001b[0m\u001b[1;33m.\u001b[0m\u001b[0mget_obj\u001b[0m\u001b[1;33m(\u001b[0m\u001b[1;33m[\u001b[0m\u001b[0mvim\u001b[0m\u001b[1;33m.\u001b[0m\u001b[0mVirtualMachine\u001b[0m\u001b[1;33m]\u001b[0m\u001b[1;33m,\u001b[0m \u001b[0mname\u001b[0m\u001b[1;33m)\u001b[0m\u001b[1;33m\u001b[0m\u001b[0m\n\u001b[0;32m     62\u001b[0m         \u001b[0mself\u001b[0m\u001b[1;33m.\u001b[0m\u001b[0mdatacenter\u001b[0m \u001b[1;33m=\u001b[0m \u001b[0mself\u001b[0m\u001b[1;33m.\u001b[0m\u001b[0mget_obj\u001b[0m\u001b[1;33m(\u001b[0m\u001b[1;33m[\u001b[0m\u001b[0mvim\u001b[0m\u001b[1;33m.\u001b[0m\u001b[0mDatacenter\u001b[0m\u001b[1;33m]\u001b[0m\u001b[1;33m,\u001b[0m \u001b[1;34m'datacenter1'\u001b[0m\u001b[1;33m)\u001b[0m\u001b[1;33m\u001b[0m\u001b[0m\n\u001b[1;32m---> 63\u001b[1;33m         \u001b[0mself\u001b[0m\u001b[1;33m.\u001b[0m\u001b[0mdestfolder\u001b[0m \u001b[1;33m=\u001b[0m \u001b[0mself\u001b[0m\u001b[1;33m.\u001b[0m\u001b[0mdatacenter\u001b[0m\u001b[1;33m.\u001b[0m\u001b[0mvmFolder\u001b[0m\u001b[1;33m\u001b[0m\u001b[0m\n\u001b[0m\u001b[0;32m     64\u001b[0m         \u001b[0mtask\u001b[0m \u001b[1;33m=\u001b[0m \u001b[0mself\u001b[0m\u001b[1;33m.\u001b[0m\u001b[0mtemplate\u001b[0m\u001b[1;33m.\u001b[0m\u001b[0mClone\u001b[0m\u001b[1;33m(\u001b[0m\u001b[0mname\u001b[0m \u001b[1;33m=\u001b[0m \u001b[0mname\u001b[0m\u001b[1;33m,\u001b[0m\u001b[0mfolder\u001b[0m \u001b[1;33m=\u001b[0m \u001b[0mdestfolder\u001b[0m\u001b[1;33m)\u001b[0m\u001b[1;33m\u001b[0m\u001b[0m\n\u001b[0;32m     65\u001b[0m \u001b[1;33m\u001b[0m\u001b[0m\n",
      "\u001b[1;31mAttributeError\u001b[0m: 'NoneType' object has no attribute 'vmFolder'"
     ]
    }
   ],
   "source": [
    "P1.clone_vm('ubuntu 16')"
   ]
  },
  {
   "cell_type": "code",
   "execution_count": null,
   "metadata": {},
   "outputs": [],
   "source": [
    "P1.server.get_vm_by_path('[datastore1] win7/win7.vmx')"
   ]
  },
  {
   "cell_type": "code",
   "execution_count": null,
   "metadata": {},
   "outputs": [],
   "source": [
    "P1.get_vm_list()"
   ]
  },
  {
   "cell_type": "code",
   "execution_count": null,
   "metadata": {},
   "outputs": [],
   "source": [
    "P1.get_vm_by_name(\"ubuntu 16\")"
   ]
  },
  {
   "cell_type": "code",
   "execution_count": null,
   "metadata": {},
   "outputs": [],
   "source": [
    "P1.vm.clone(\"new\")"
   ]
  },
  {
   "cell_type": "code",
   "execution_count": null,
   "metadata": {},
   "outputs": [],
   "source": [
    "P1.SSH_connect()"
   ]
  },
  {
   "cell_type": "code",
   "execution_count": null,
   "metadata": {},
   "outputs": [],
   "source": [
    "P1.SSH_disconnect()"
   ]
  },
  {
   "cell_type": "code",
   "execution_count": null,
   "metadata": {},
   "outputs": [],
   "source": [
    "P1.command_server(\"ls\")"
   ]
  },
  {
   "cell_type": "code",
   "execution_count": null,
   "metadata": {},
   "outputs": [],
   "source": [
    "P1.vm_clone(template=\"demo0\",vm_name=\"demo1\")"
   ]
  },
  {
   "cell_type": "code",
   "execution_count": null,
   "metadata": {},
   "outputs": [],
   "source": [
    "P1.vm.create_snapshot(\"mysnapshot\")"
   ]
  },
  {
   "cell_type": "code",
   "execution_count": null,
   "metadata": {},
   "outputs": [],
   "source": [
    "P1.vm.revert_to_named_snapshot(\"mysnapshot\")"
   ]
  },
  {
   "cell_type": "code",
   "execution_count": null,
   "metadata": {},
   "outputs": [],
   "source": [
    "vm1=P1.vm.clone(name=\"new\")"
   ]
  },
  {
   "cell_type": "code",
   "execution_count": null,
   "metadata": {},
   "outputs": [],
   "source": []
  },
  {
   "cell_type": "code",
   "execution_count": null,
   "metadata": {},
   "outputs": [],
   "source": [
    "vm = s.get_vm_by_name(\"retail-app-server-C11\")\n",
    "vm.revert_to_named_snapshot(\"harish snapshot\") # 恢复到对应快照\n",
    "vm1 = vm.clone(\"harish-retail-app\")"
   ]
  },
  {
   "cell_type": "code",
   "execution_count": null,
   "metadata": {},
   "outputs": [],
   "source": []
  }
 ],
 "metadata": {
  "kernelspec": {
   "display_name": "python2",
   "language": "python",
   "name": "python2"
  },
  "language_info": {
   "codemirror_mode": {
    "name": "ipython",
    "version": 3
   },
   "file_extension": ".py",
   "mimetype": "text/x-python",
   "name": "python",
   "nbconvert_exporter": "python",
   "pygments_lexer": "ipython3",
   "version": "3.8.3rc1"
  }
 },
 "nbformat": 4,
 "nbformat_minor": 2
}
